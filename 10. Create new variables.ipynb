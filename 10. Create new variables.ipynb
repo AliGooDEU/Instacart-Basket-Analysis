{
 "cells": [
  {
   "cell_type": "markdown",
   "id": "06c748da-dc9b-4f15-9511-104c1ca6ad99",
   "metadata": {},
   "source": [
    "# 4.10 Customer analysis"
   ]
  },
  {
   "cell_type": "markdown",
   "id": "f27ae083-fec2-4dc4-8a4b-1501124056c7",
   "metadata": {},
   "source": [
    "# Contents\n",
    "# 1. Data quality and consistency checks\n",
    "# 2. Remove redundant columns\n",
    "# 3. Create new variable - region\n",
    "# 4. Create exclusion flag\n",
    "# 5. Customer profiling"
   ]
  },
  {
   "cell_type": "code",
   "execution_count": 1,
   "id": "96077217-dd39-4261-939e-45fe094a239e",
   "metadata": {},
   "outputs": [],
   "source": [
    "#import libraries\n",
    "import pandas as pd\n",
    "import numpy as np\n",
    "import os\n",
    "\n",
    "# def file path\n",
    "path = r'/Users/alison/Documents/Data Analysis - Tasks/Instacart  Basket Analysis' "
   ]
  },
  {
   "cell_type": "code",
   "execution_count": 3,
   "id": "aab58e71-ade4-406f-843c-0c4011502f67",
   "metadata": {},
   "outputs": [],
   "source": [
    "# get latest merged df\n",
    "all_merged = pd.read_pickle(os.path.join(path, '02 Data', 'Prepared Data', 'merged_all.pkl'))"
   ]
  },
  {
   "cell_type": "markdown",
   "id": "4cf47c76-1ebd-43ee-8abe-098b9c336ff3",
   "metadata": {},
   "source": [
    "# 1. Data quality and consistency checks"
   ]
  },
  {
   "cell_type": "code",
   "execution_count": 5,
   "id": "91206ce7-5129-49c2-8074-0748c9e28a70",
   "metadata": {},
   "outputs": [
    {
     "data": {
      "text/plain": [
       "(32404859, 34)"
      ]
     },
     "execution_count": 5,
     "metadata": {},
     "output_type": "execute_result"
    }
   ],
   "source": [
    "# data quality and consistency checks\n",
    "all_merged.shape"
   ]
  },
  {
   "cell_type": "code",
   "execution_count": 7,
   "id": "e53900c8-c05e-4d52-8a3b-7709884afb7d",
   "metadata": {},
   "outputs": [
    {
     "data": {
      "text/plain": [
       "Index(['user_id', 'First Name', 'Last_name', 'Gender', 'STATE', 'Age',\n",
       "       'date_joined', 'n_dependants', 'fam_status', 'income', 'product_id',\n",
       "       'product_name', 'aisle_id', 'department_id', 'prices', 'order_id',\n",
       "       'order_number', 'orders_day_of_week', 'order_hour_of_day',\n",
       "       'days_since_prior_order', 'New_customer_flag', 'add_to_cart_order',\n",
       "       'reordered', 'old_merge', 'price_range_loc', 'Busiest_days',\n",
       "       'busiest period of day', 'max_order', 'loyalty_flag',\n",
       "       'av_product_price', 'spending_flag', 'Frequent customer',\n",
       "       'frequency_flag', '_merge'],\n",
       "      dtype='object')"
      ]
     },
     "execution_count": 7,
     "metadata": {},
     "output_type": "execute_result"
    }
   ],
   "source": [
    "all_merged.columns"
   ]
  },
  {
   "cell_type": "markdown",
   "id": "fcc4b5c1-597b-4050-a6de-4be66e117361",
   "metadata": {},
   "source": [
    "# 2. Remove redundant columns"
   ]
  },
  {
   "cell_type": "code",
   "execution_count": 9,
   "id": "0bddef15-5320-467e-81c1-63f8175b931f",
   "metadata": {},
   "outputs": [
    {
     "name": "stdout",
     "output_type": "stream",
     "text": [
      "         user_id  Gender     STATE  Age date_joined  n_dependants fam_status  \\\n",
      "0          26711  Female  Missouri   48    1/1/2017             3    married   \n",
      "1          26711  Female  Missouri   48    1/1/2017             3    married   \n",
      "2          26711  Female  Missouri   48    1/1/2017             3    married   \n",
      "3          26711  Female  Missouri   48    1/1/2017             3    married   \n",
      "4          26711  Female  Missouri   48    1/1/2017             3    married   \n",
      "...          ...     ...       ...  ...         ...           ...        ...   \n",
      "32404854   80148  Female  New York   55    4/1/2020             1    married   \n",
      "32404855   80148  Female  New York   55    4/1/2020             1    married   \n",
      "32404856   80148  Female  New York   55    4/1/2020             1    married   \n",
      "32404857   80148  Female  New York   55    4/1/2020             1    married   \n",
      "32404858   80148  Female  New York   55    4/1/2020             1    married   \n",
      "\n",
      "          income  product_id                          product_name  ...  \\\n",
      "0         165665         196                                  Soda  ...   \n",
      "1         165665         196                                  Soda  ...   \n",
      "2         165665         196                                  Soda  ...   \n",
      "3         165665        6184                           Clementines  ...   \n",
      "4         165665        6184                           Clementines  ...   \n",
      "...          ...         ...                                   ...  ...   \n",
      "32404854   57095       38750        Protein Bar, Chocolate Pretzel  ...   \n",
      "32404855   57095       39069  Chocolate Coconut Almond Protein Bar  ...   \n",
      "32404856   57095       39972      Chocolate Fudge High Protein Bar  ...   \n",
      "32404857   57095       41427          Cookies 'N Cream Protein Bar  ...   \n",
      "32404858   57095       48335          Chocolate Brownie Energy Bar  ...   \n",
      "\n",
      "          reordered    price_range_loc    Busiest_days busiest period of day  \\\n",
      "0                 0  Mid-range product    Busiest days           most_orders   \n",
      "1                 1  Mid-range product  Regularly busy           most_orders   \n",
      "2                 1  Mid-range product    Busiest days           most_orders   \n",
      "3                 0  Low-range product  Regularly busy           most_orders   \n",
      "4                 1  Low-range product    Slowest days           most_orders   \n",
      "...             ...                ...             ...                   ...   \n",
      "32404854          0  Low-range product  Regularly busy           most_orders   \n",
      "32404855          0  Low-range product  Regularly busy           most_orders   \n",
      "32404856          0  Low-range product  Regularly busy           most_orders   \n",
      "32404857          0  Low-range product  Regularly busy           most_orders   \n",
      "32404858          0  Mid-range product  Regularly busy           most_orders   \n",
      "\n",
      "          max_order  loyalty_flag  av_product_price  spending_flag  \\\n",
      "0                 8  New customer          7.988889    Low spender   \n",
      "1                 8  New customer          7.988889    Low spender   \n",
      "2                 8  New customer          7.988889    Low spender   \n",
      "3                 8  New customer          7.988889    Low spender   \n",
      "4                 8  New customer          7.988889    Low spender   \n",
      "...             ...           ...               ...            ...   \n",
      "32404854          4  New customer          3.886667    Low spender   \n",
      "32404855          4  New customer          3.886667    Low spender   \n",
      "32404856          4  New customer          3.886667    Low spender   \n",
      "32404857          4  New customer          3.886667    Low spender   \n",
      "32404858          4  New customer          3.886667    Low spender   \n",
      "\n",
      "         Frequent customer    frequency_flag  \n",
      "0                     19.0  Regular customer  \n",
      "1                     19.0  Regular customer  \n",
      "2                     19.0  Regular customer  \n",
      "3                     19.0  Regular customer  \n",
      "4                     19.0  Regular customer  \n",
      "...                    ...               ...  \n",
      "32404854              12.0  Regular customer  \n",
      "32404855              12.0  Regular customer  \n",
      "32404856              12.0  Regular customer  \n",
      "32404857              12.0  Regular customer  \n",
      "32404858              12.0  Regular customer  \n",
      "\n",
      "[32404859 rows x 30 columns]\n"
     ]
    }
   ],
   "source": [
    "# Can remove merge and old_merge columns as not necessary for analysis. \n",
    "# Also remove first name and last name for privacy reasons. Can identify by user id. Names are not necessary for the analysis, so it is better to remove them.\n",
    "all_merged = all_merged.drop(columns=['First Name', 'Last_name', 'old_merge', '_merge'])\n",
    "print(all_merged)"
   ]
  },
  {
   "cell_type": "code",
   "execution_count": 11,
   "id": "43f7e773-fc6e-483e-855c-5a426303d638",
   "metadata": {},
   "outputs": [
    {
     "data": {
      "text/plain": [
       "STATE\n",
       "Pennsylvania            667082\n",
       "California              659783\n",
       "Rhode Island            656913\n",
       "Georgia                 656389\n",
       "New Mexico              654494\n",
       "Arizona                 653964\n",
       "North Carolina          651900\n",
       "Oklahoma                651739\n",
       "Alaska                  648495\n",
       "Minnesota               647825\n",
       "Massachusetts           646358\n",
       "Wyoming                 644255\n",
       "Virginia                641421\n",
       "Missouri                640732\n",
       "Texas                   640394\n",
       "Colorado                639280\n",
       "Maine                   638583\n",
       "North Dakota            638491\n",
       "Alabama                 638003\n",
       "Kansas                  637538\n",
       "Louisiana               637482\n",
       "Delaware                637024\n",
       "South Carolina          636754\n",
       "Oregon                  636425\n",
       "Arkansas                636144\n",
       "Nevada                  636139\n",
       "New York                635983\n",
       "Montana                 635265\n",
       "South Dakota            633772\n",
       "Illinois                633024\n",
       "Hawaii                  632901\n",
       "Washington              632852\n",
       "Mississippi             632675\n",
       "Kentucky                632490\n",
       "Michigan                630928\n",
       "Florida                 629027\n",
       "Ohio                    628319\n",
       "Wisconsin               628108\n",
       "New Jersey              627692\n",
       "Indiana                 627282\n",
       "Maryland                626579\n",
       "Nebraska                625813\n",
       "Iowa                    625493\n",
       "Connecticut             623022\n",
       "Tennessee               617873\n",
       "New Hampshire           615378\n",
       "District of Columbia    613695\n",
       "West Virginia           612296\n",
       "Utah                    611941\n",
       "Vermont                 611725\n",
       "Idaho                   607119\n",
       "Name: count, dtype: int64"
      ]
     },
     "execution_count": 11,
     "metadata": {},
     "output_type": "execute_result"
    }
   ],
   "source": [
    "all_merged['STATE'].value_counts()"
   ]
  },
  {
   "cell_type": "markdown",
   "id": "b319cd49-353e-4661-a63c-a0838506611a",
   "metadata": {},
   "source": [
    "# 3. Create new variable - region"
   ]
  },
  {
   "cell_type": "code",
   "execution_count": 13,
   "id": "853a035a-3e72-4ca0-a696-f2ca599a7278",
   "metadata": {},
   "outputs": [],
   "source": [
    "# organised the states into four offocial regions\n",
    "result = []\n",
    "for value in all_merged['STATE']:\n",
    "    if value in ['Maine', 'New Hampshire', 'Vermont', 'Massachusetts', 'Rhode Island', 'Connecticut', 'New York', 'Pennsylvania', 'New Jersey']:\n",
    "        result.append('Northeast')\n",
    "    elif value in ['Wisconsin', 'Michigan', 'Illinois', 'Indiana', 'Ohio', 'North Dakota', 'South Dakota', 'Nebraska', 'Kansas', 'Minnesota', 'Iowa', 'Missouri']:\n",
    "        result.append('Midwest')\n",
    "    elif value in ['Delaware', 'Maryland', 'District of Columbia', 'Virginia', 'West Virginia', 'North Carolina', 'South Carolina', 'Georgia', 'Florida', 'Kentucky', 'Tennessee', 'Mississippi', 'Alabama', 'Oklahoma', 'Texas', 'Arkansas', 'Louisiana'\n",
    "]:\n",
    "        result.append('South')\n",
    "    else:\n",
    "        result.append('West')"
   ]
  },
  {
   "cell_type": "code",
   "execution_count": 15,
   "id": "2d08214c-571b-4f08-8b6f-4f7733f7f482",
   "metadata": {},
   "outputs": [],
   "source": [
    "# create a region column for the above categories\n",
    "all_merged['Region'] = result"
   ]
  },
  {
   "cell_type": "code",
   "execution_count": 17,
   "id": "d70ff7f5-a733-430e-a3f1-61c11bf7ce7e",
   "metadata": {},
   "outputs": [
    {
     "data": {
      "text/plain": [
       "Region\n",
       "South        10791885\n",
       "West          8292913\n",
       "Midwest       7597325\n",
       "Northeast     5722736\n",
       "Name: count, dtype: int64"
      ]
     },
     "execution_count": 17,
     "metadata": {},
     "output_type": "execute_result"
    }
   ],
   "source": [
    "all_merged['Region'].value_counts(dropna=False)"
   ]
  },
  {
   "cell_type": "code",
   "execution_count": 19,
   "id": "081d08e7-0441-4bb9-8925-06887e280943",
   "metadata": {},
   "outputs": [],
   "source": [
    "# cross region with spending flag to find regional spending habits\n",
    "crosstab = pd.crosstab(all_merged['Region'], all_merged['spending_flag'], dropna = False)"
   ]
  },
  {
   "cell_type": "code",
   "execution_count": 20,
   "id": "cd5c4db0-036a-4d66-a315-5ddc28e74170",
   "metadata": {},
   "outputs": [],
   "source": [
    "crosstab.to_clipboard()"
   ]
  },
  {
   "cell_type": "code",
   "execution_count": 23,
   "id": "7c1fc13b-73a6-4372-b5ab-4650afc088af",
   "metadata": {},
   "outputs": [
    {
     "data": {
      "text/plain": [
       "(32404859, 31)"
      ]
     },
     "execution_count": 23,
     "metadata": {},
     "output_type": "execute_result"
    }
   ],
   "source": [
    "all_merged.shape"
   ]
  },
  {
   "cell_type": "code",
   "execution_count": 25,
   "id": "e60f7b0a-9065-4b0f-a3e6-f5474cd1bfb9",
   "metadata": {},
   "outputs": [],
   "source": [
    "# export new df with Region column\n",
    "all_merged.to_pickle(os.path.join(path, '02 Data','Prepared Data', 'all_merged.pkl'))"
   ]
  },
  {
   "cell_type": "markdown",
   "id": "4904a6ed-46c1-4846-96ef-e4df3be4d6d0",
   "metadata": {},
   "source": [
    "# 4. Create exclusion flag"
   ]
  },
  {
   "cell_type": "code",
   "execution_count": 26,
   "id": "a75d7720-067f-4a45-b6f9-005421e959dc",
   "metadata": {},
   "outputs": [],
   "source": [
    "# create exclusion flag for customers with under 5 orders\n",
    "# Loop through the order_number to set exclusion_flag\n",
    "result = []\n",
    "\n",
    "for value in all_merged['order_number']:\n",
    "  if value < 5:\n",
    "    result.append('Yes')\n",
    "  else:\n",
    "    result.append('No')"
   ]
  },
  {
   "cell_type": "code",
   "execution_count": 27,
   "id": "d66b8f65-f720-459b-b338-2c73d6a172db",
   "metadata": {},
   "outputs": [],
   "source": [
    "# create new column\n",
    "all_merged['exclusion_flag'] = result"
   ]
  },
  {
   "cell_type": "code",
   "execution_count": 28,
   "id": "5488c73a-fbb5-40dd-96bc-5e59d9c00708",
   "metadata": {},
   "outputs": [
    {
     "data": {
      "text/plain": [
       "exclusion_flag\n",
       "No     24414877\n",
       "Yes     7989982\n",
       "Name: count, dtype: int64"
      ]
     },
     "execution_count": 28,
     "metadata": {},
     "output_type": "execute_result"
    }
   ],
   "source": [
    "all_merged['exclusion_flag'].value_counts()"
   ]
  },
  {
   "cell_type": "code",
   "execution_count": 33,
   "id": "35a1a7d4-5814-4556-ba5f-35b3b4363cdf",
   "metadata": {},
   "outputs": [
    {
     "name": "stdout",
     "output_type": "stream",
     "text": [
      "         user_id  Gender     STATE  Age date_joined  n_dependants fam_status  \\\n",
      "0          26711  Female  Missouri   48    1/1/2017             3    married   \n",
      "1          26711  Female  Missouri   48    1/1/2017             3    married   \n",
      "2          26711  Female  Missouri   48    1/1/2017             3    married   \n",
      "6          26711  Female  Missouri   48    1/1/2017             3    married   \n",
      "7          26711  Female  Missouri   48    1/1/2017             3    married   \n",
      "...          ...     ...       ...  ...         ...           ...        ...   \n",
      "32404813  135902  Female  Missouri   66    4/1/2020             2    married   \n",
      "32404814  135902  Female  Missouri   66    4/1/2020             2    married   \n",
      "32404815  135902  Female  Missouri   66    4/1/2020             2    married   \n",
      "32404816  135902  Female  Missouri   66    4/1/2020             2    married   \n",
      "32404817  135902  Female  Missouri   66    4/1/2020             2    married   \n",
      "\n",
      "          income  product_id  \\\n",
      "0         165665         196   \n",
      "1         165665         196   \n",
      "2         165665         196   \n",
      "6         165665        6184   \n",
      "7         165665        6184   \n",
      "...          ...         ...   \n",
      "32404813   53374       44801   \n",
      "32404814   53374       44801   \n",
      "32404815   53374       44801   \n",
      "32404816   53374       47115   \n",
      "32404817   53374       49496   \n",
      "\n",
      "                                               product_name  ...  \\\n",
      "0                                                      Soda  ...   \n",
      "1                                                      Soda  ...   \n",
      "2                                                      Soda  ...   \n",
      "6                                               Clementines  ...   \n",
      "7                                               Clementines  ...   \n",
      "...                                                     ...  ...   \n",
      "32404813                              Fresh Mint Toothpaste  ...   \n",
      "32404814                              Fresh Mint Toothpaste  ...   \n",
      "32404815                              Fresh Mint Toothpaste  ...   \n",
      "32404816  Favorites Super Moist Butter Recipe Yellow Cak...  ...   \n",
      "32404817  Puffs Simply White Cheddar Cheese Flavored Snacks  ...   \n",
      "\n",
      "            Busiest_days  busiest period of day  max_order  loyalty_flag  \\\n",
      "0           Busiest days            most_orders          8  New customer   \n",
      "1         Regularly busy            most_orders          8  New customer   \n",
      "2           Busiest days            most_orders          8  New customer   \n",
      "6           Busiest days            most_orders          8  New customer   \n",
      "7           Busiest days         average orders          8  New customer   \n",
      "...                  ...                    ...        ...           ...   \n",
      "32404813    Busiest days         average orders          8  New customer   \n",
      "32404814  Regularly busy            most_orders          8  New customer   \n",
      "32404815  Regularly busy         average orders          8  New customer   \n",
      "32404816  Regularly busy         average orders          8  New customer   \n",
      "32404817  Regularly busy            most_orders          8  New customer   \n",
      "\n",
      "          av_product_price  spending_flag  Frequent customer  \\\n",
      "0                 7.988889    Low spender               19.0   \n",
      "1                 7.988889    Low spender               19.0   \n",
      "2                 7.988889    Low spender               19.0   \n",
      "6                 7.988889    Low spender               19.0   \n",
      "7                 7.988889    Low spender               19.0   \n",
      "...                    ...            ...                ...   \n",
      "32404813          6.960345    Low spender                8.0   \n",
      "32404814          6.960345    Low spender                8.0   \n",
      "32404815          6.960345    Low spender                8.0   \n",
      "32404816          6.960345    Low spender                8.0   \n",
      "32404817          6.960345    Low spender                8.0   \n",
      "\n",
      "             frequency_flag   Region  exclusion_flag  \n",
      "0          Regular customer  Midwest              No  \n",
      "1          Regular customer  Midwest              No  \n",
      "2          Regular customer  Midwest              No  \n",
      "6          Regular customer  Midwest              No  \n",
      "7          Regular customer  Midwest              No  \n",
      "...                     ...      ...             ...  \n",
      "32404813  Frequent customer  Midwest              No  \n",
      "32404814  Frequent customer  Midwest              No  \n",
      "32404815  Frequent customer  Midwest              No  \n",
      "32404816  Frequent customer  Midwest              No  \n",
      "32404817  Frequent customer  Midwest              No  \n",
      "\n",
      "[24414877 rows x 32 columns]\n"
     ]
    }
   ],
   "source": [
    "# Exclude rows where exclusion_flag is \"Yes\"\n",
    "new_all_merged = all_merged[all_merged['exclusion_flag'] != 'Yes']\n",
    "\n",
    "print(new_all_merged)"
   ]
  },
  {
   "cell_type": "code",
   "execution_count": 35,
   "id": "3ac6bedb-de9f-4be7-bcd4-a90960b37376",
   "metadata": {},
   "outputs": [],
   "source": [
    "# export new df\n",
    "new_all_merged.to_pickle(os.path.join(path, '02 Data','Prepared Data', 'new_all_merged.pkl'))"
   ]
  },
  {
   "cell_type": "markdown",
   "id": "ba089541-42b4-45fa-8b09-9f22994c3913",
   "metadata": {},
   "source": [
    "# 5. Customer profiling"
   ]
  },
  {
   "cell_type": "code",
   "execution_count": 3,
   "id": "9f2c2895-5692-4be5-b4bd-5671795c9975",
   "metadata": {},
   "outputs": [],
   "source": [
    "# get latest merged df\n",
    "new_all_merged = pd.read_pickle(os.path.join(path, '02 Data', 'Prepared Data', 'new_all_merged.pkl'))"
   ]
  },
  {
   "cell_type": "code",
   "execution_count": 5,
   "id": "0dfe5ec7-2de7-4355-9321-55a4fa5f72cb",
   "metadata": {},
   "outputs": [
    {
     "data": {
      "text/plain": [
       "count    2.441488e+07\n",
       "mean     4.945734e+01\n",
       "std      1.848532e+01\n",
       "min      1.800000e+01\n",
       "25%      3.300000e+01\n",
       "50%      4.900000e+01\n",
       "75%      6.500000e+01\n",
       "max      8.100000e+01\n",
       "Name: Age, dtype: float64"
      ]
     },
     "execution_count": 5,
     "metadata": {},
     "output_type": "execute_result"
    }
   ],
   "source": [
    "new_all_merged['Age'].describe()"
   ]
  },
  {
   "cell_type": "code",
   "execution_count": 7,
   "id": "9e6ec1ce-428f-4c49-9279-8dc2ab2cbd94",
   "metadata": {},
   "outputs": [],
   "source": [
    "# create age groups\n",
    "def age_group(row):\n",
    "\n",
    "  if row['Age'] < 26:\n",
    "    return 'young adult'\n",
    "  elif (row['Age'] >= 26) and (row['Age'] < 40):\n",
    "    return 'adult'\n",
    "  elif (row['Age'] >= 40) and (row['Age'] < 60):\n",
    "    return 'middle adult'\n",
    "  elif row['Age'] >= 60:\n",
    "    return 'senior'\n",
    "  else: return 'Not enough data'"
   ]
  },
  {
   "cell_type": "code",
   "execution_count": 9,
   "id": "71270599-690a-4ab9-bb0b-bf477d861660",
   "metadata": {},
   "outputs": [],
   "source": [
    "new_all_merged['age_group'] = new_all_merged.apply(age_group, axis=1)"
   ]
  },
  {
   "cell_type": "code",
   "execution_count": 11,
   "id": "847bf2dd-c93a-44df-b03d-b7ca0d02a7e0",
   "metadata": {},
   "outputs": [
    {
     "data": {
      "text/plain": [
       "age_group\n",
       "senior          8330598\n",
       "middle adult    7665304\n",
       "adult           5371265\n",
       "young adult     3047710\n",
       "Name: count, dtype: int64"
      ]
     },
     "execution_count": 11,
     "metadata": {},
     "output_type": "execute_result"
    }
   ],
   "source": [
    "new_all_merged['age_group'].value_counts(dropna=False)"
   ]
  },
  {
   "cell_type": "code",
   "execution_count": 13,
   "id": "d30acc9a-2c4e-4d23-af35-b717c33d77eb",
   "metadata": {},
   "outputs": [],
   "source": [
    "# create income groups\n",
    "def income_group(row):\n",
    "\n",
    "  if row['income'] < 56600:\n",
    "    return 'low'\n",
    "  elif (row['income'] >= 56600) and (row['income'] < 169800):\n",
    "    return 'middle'\n",
    "  elif row['income'] >= 169800:\n",
    "    return 'high'\n",
    "  else: return 'Not enough data'"
   ]
  },
  {
   "cell_type": "code",
   "execution_count": 15,
   "id": "4485d012-3330-4376-b394-989feb6bc2d9",
   "metadata": {},
   "outputs": [],
   "source": [
    "new_all_merged['income_group'] = new_all_merged.apply(income_group, axis=1)"
   ]
  },
  {
   "cell_type": "code",
   "execution_count": 17,
   "id": "c4538392-3a90-476c-85fb-97d6d75ef7bf",
   "metadata": {},
   "outputs": [
    {
     "data": {
      "text/plain": [
       "income_group\n",
       "middle    20335470\n",
       "low        3790160\n",
       "high        289247\n",
       "Name: count, dtype: int64"
      ]
     },
     "execution_count": 17,
     "metadata": {},
     "output_type": "execute_result"
    }
   ],
   "source": [
    "new_all_merged['income_group'].value_counts(dropna=False)"
   ]
  },
  {
   "cell_type": "code",
   "execution_count": 19,
   "id": "10ff28ba-13d4-4860-b69d-275cc90518c8",
   "metadata": {},
   "outputs": [
    {
     "data": {
      "text/plain": [
       "department_id\n",
       "4     7227091\n",
       "16    4120488\n",
       "19    2187121\n",
       "7     2036447\n",
       "1     1627614\n",
       "13    1385375\n",
       "3      883330\n",
       "15     787790\n",
       "20     783011\n",
       "9      633725\n",
       "17     539349\n",
       "14     524945\n",
       "12     523890\n",
       "18     335947\n",
       "11     328480\n",
       "6      197900\n",
       "5      107972\n",
       "8       72111\n",
       "21      57567\n",
       "10      27558\n",
       "2       27166\n",
       "Name: count, dtype: int64"
      ]
     },
     "execution_count": 19,
     "metadata": {},
     "output_type": "execute_result"
    }
   ],
   "source": [
    "new_all_merged['department_id'].value_counts(dropna=False)"
   ]
  },
  {
   "cell_type": "code",
   "execution_count": 21,
   "id": "836818d0-b15f-4b53-b948-8620fec98f74",
   "metadata": {},
   "outputs": [],
   "source": [
    "#label departments\n",
    "def dept_label(row):\n",
    "\n",
    "  if row['department_id'] == 1:\n",
    "    return 'frozen'\n",
    "  elif (row['department_id'] == 2):\n",
    "    return 'other'\n",
    "  elif (row['department_id'] == 3):\n",
    "    return 'bakery'\n",
    "  elif (row['department_id'] == 4):\n",
    "    return 'produce' \n",
    "  elif (row['department_id'] == 5):\n",
    "    return 'alcohol'\n",
    "  elif (row['department_id'] == 6):\n",
    "    return 'international'\n",
    "  elif (row['department_id'] == 7): \n",
    "    return 'beverages'\n",
    "  elif (row['department_id'] == 8):\n",
    "    return\t'pets'\n",
    "  elif (row['department_id'] == 9):\n",
    "    return\t'dry goods pasta'\n",
    "  elif (row['department_id'] == 10):\n",
    "    return\t'bulk'\n",
    "  elif (row['department_id'] == 11):\n",
    "    return\t'personal care'\n",
    "  elif (row['department_id'] == 12):\n",
    "    return\t'meat seafood'\n",
    "  elif (row['department_id'] == 13): \n",
    "    return 'pantry'\n",
    "  elif (row['department_id'] == 14): \n",
    "    return 'breakfast'\n",
    "  elif (row['department_id'] == 15): \n",
    "    return 'canned goods'\n",
    "  elif (row['department_id'] == 16): \n",
    "    return 'dairy eggs'\n",
    "  elif (row['department_id'] == 17): \n",
    "    return 'household'\n",
    "  elif (row['department_id'] == 18): \n",
    "    return 'babies'\n",
    "  elif (row['department_id'] == 19): \n",
    "    return 'snacks'\n",
    "  elif (row['department_id'] == 20): \n",
    "    return 'deli'\n",
    "  elif (row['department_id'] == 21): \n",
    "    return 'missing'\n",
    "  else: return 'Not enough data'\n"
   ]
  },
  {
   "cell_type": "code",
   "execution_count": 23,
   "id": "14a695a2-6cc9-4f68-8112-4529b726c9fb",
   "metadata": {},
   "outputs": [],
   "source": [
    "new_all_merged['dept_label'] = new_all_merged.apply(dept_label, axis=1)"
   ]
  },
  {
   "cell_type": "code",
   "execution_count": 25,
   "id": "5e5d7a2b-d67d-41a1-b638-cd32b0613e81",
   "metadata": {},
   "outputs": [
    {
     "data": {
      "text/plain": [
       "dept_label\n",
       "produce            7227091\n",
       "dairy eggs         4120488\n",
       "snacks             2187121\n",
       "beverages          2036447\n",
       "frozen             1627614\n",
       "pantry             1385375\n",
       "bakery              883330\n",
       "canned goods        787790\n",
       "deli                783011\n",
       "dry goods pasta     633725\n",
       "household           539349\n",
       "breakfast           524945\n",
       "meat seafood        523890\n",
       "babies              335947\n",
       "personal care       328480\n",
       "international       197900\n",
       "alcohol             107972\n",
       "pets                 72111\n",
       "missing              57567\n",
       "bulk                 27558\n",
       "other                27166\n",
       "Name: count, dtype: int64"
      ]
     },
     "execution_count": 25,
     "metadata": {},
     "output_type": "execute_result"
    }
   ],
   "source": [
    "new_all_merged['dept_label'].value_counts(dropna=False)"
   ]
  },
  {
   "cell_type": "code",
   "execution_count": 27,
   "id": "87424e8d-46df-4d3c-b068-daaf02bdd6d0",
   "metadata": {},
   "outputs": [
    {
     "data": {
      "text/html": [
       "<div>\n",
       "<style scoped>\n",
       "    .dataframe tbody tr th:only-of-type {\n",
       "        vertical-align: middle;\n",
       "    }\n",
       "\n",
       "    .dataframe tbody tr th {\n",
       "        vertical-align: top;\n",
       "    }\n",
       "\n",
       "    .dataframe thead tr th {\n",
       "        text-align: left;\n",
       "    }\n",
       "\n",
       "    .dataframe thead tr:last-of-type th {\n",
       "        text-align: right;\n",
       "    }\n",
       "</style>\n",
       "<table border=\"1\" class=\"dataframe\">\n",
       "  <thead>\n",
       "    <tr>\n",
       "      <th></th>\n",
       "      <th colspan=\"3\" halign=\"left\">order_number</th>\n",
       "    </tr>\n",
       "    <tr>\n",
       "      <th></th>\n",
       "      <th>mean</th>\n",
       "      <th>min</th>\n",
       "      <th>max</th>\n",
       "    </tr>\n",
       "    <tr>\n",
       "      <th>dept_label</th>\n",
       "      <th></th>\n",
       "      <th></th>\n",
       "      <th></th>\n",
       "    </tr>\n",
       "  </thead>\n",
       "  <tbody>\n",
       "    <tr>\n",
       "      <th>alcohol</th>\n",
       "      <td>20.644250</td>\n",
       "      <td>5</td>\n",
       "      <td>99</td>\n",
       "    </tr>\n",
       "    <tr>\n",
       "      <th>babies</th>\n",
       "      <td>23.714705</td>\n",
       "      <td>5</td>\n",
       "      <td>99</td>\n",
       "    </tr>\n",
       "    <tr>\n",
       "      <th>bakery</th>\n",
       "      <td>21.987157</td>\n",
       "      <td>5</td>\n",
       "      <td>99</td>\n",
       "    </tr>\n",
       "    <tr>\n",
       "      <th>beverages</th>\n",
       "      <td>21.951229</td>\n",
       "      <td>5</td>\n",
       "      <td>99</td>\n",
       "    </tr>\n",
       "    <tr>\n",
       "      <th>breakfast</th>\n",
       "      <td>21.635206</td>\n",
       "      <td>5</td>\n",
       "      <td>99</td>\n",
       "    </tr>\n",
       "    <tr>\n",
       "      <th>bulk</th>\n",
       "      <td>24.707163</td>\n",
       "      <td>5</td>\n",
       "      <td>99</td>\n",
       "    </tr>\n",
       "    <tr>\n",
       "      <th>canned goods</th>\n",
       "      <td>21.047112</td>\n",
       "      <td>5</td>\n",
       "      <td>99</td>\n",
       "    </tr>\n",
       "    <tr>\n",
       "      <th>dairy eggs</th>\n",
       "      <td>22.384589</td>\n",
       "      <td>5</td>\n",
       "      <td>99</td>\n",
       "    </tr>\n",
       "    <tr>\n",
       "      <th>deli</th>\n",
       "      <td>21.277737</td>\n",
       "      <td>5</td>\n",
       "      <td>99</td>\n",
       "    </tr>\n",
       "    <tr>\n",
       "      <th>dry goods pasta</th>\n",
       "      <td>20.839194</td>\n",
       "      <td>5</td>\n",
       "      <td>99</td>\n",
       "    </tr>\n",
       "    <tr>\n",
       "      <th>frozen</th>\n",
       "      <td>20.311178</td>\n",
       "      <td>5</td>\n",
       "      <td>99</td>\n",
       "    </tr>\n",
       "    <tr>\n",
       "      <th>household</th>\n",
       "      <td>20.589620</td>\n",
       "      <td>5</td>\n",
       "      <td>99</td>\n",
       "    </tr>\n",
       "    <tr>\n",
       "      <th>international</th>\n",
       "      <td>21.489677</td>\n",
       "      <td>5</td>\n",
       "      <td>99</td>\n",
       "    </tr>\n",
       "    <tr>\n",
       "      <th>meat seafood</th>\n",
       "      <td>20.630062</td>\n",
       "      <td>5</td>\n",
       "      <td>99</td>\n",
       "    </tr>\n",
       "    <tr>\n",
       "      <th>missing</th>\n",
       "      <td>26.978512</td>\n",
       "      <td>5</td>\n",
       "      <td>99</td>\n",
       "    </tr>\n",
       "    <tr>\n",
       "      <th>other</th>\n",
       "      <td>22.258411</td>\n",
       "      <td>5</td>\n",
       "      <td>99</td>\n",
       "    </tr>\n",
       "    <tr>\n",
       "      <th>pantry</th>\n",
       "      <td>21.585265</td>\n",
       "      <td>5</td>\n",
       "      <td>99</td>\n",
       "    </tr>\n",
       "    <tr>\n",
       "      <th>personal care</th>\n",
       "      <td>21.147711</td>\n",
       "      <td>5</td>\n",
       "      <td>99</td>\n",
       "    </tr>\n",
       "    <tr>\n",
       "      <th>pets</th>\n",
       "      <td>19.914645</td>\n",
       "      <td>5</td>\n",
       "      <td>99</td>\n",
       "    </tr>\n",
       "    <tr>\n",
       "      <th>produce</th>\n",
       "      <td>22.597392</td>\n",
       "      <td>5</td>\n",
       "      <td>99</td>\n",
       "    </tr>\n",
       "    <tr>\n",
       "      <th>snacks</th>\n",
       "      <td>21.891988</td>\n",
       "      <td>5</td>\n",
       "      <td>99</td>\n",
       "    </tr>\n",
       "  </tbody>\n",
       "</table>\n",
       "</div>"
      ],
      "text/plain": [
       "                order_number        \n",
       "                        mean min max\n",
       "dept_label                          \n",
       "alcohol            20.644250   5  99\n",
       "babies             23.714705   5  99\n",
       "bakery             21.987157   5  99\n",
       "beverages          21.951229   5  99\n",
       "breakfast          21.635206   5  99\n",
       "bulk               24.707163   5  99\n",
       "canned goods       21.047112   5  99\n",
       "dairy eggs         22.384589   5  99\n",
       "deli               21.277737   5  99\n",
       "dry goods pasta    20.839194   5  99\n",
       "frozen             20.311178   5  99\n",
       "household          20.589620   5  99\n",
       "international      21.489677   5  99\n",
       "meat seafood       20.630062   5  99\n",
       "missing            26.978512   5  99\n",
       "other              22.258411   5  99\n",
       "pantry             21.585265   5  99\n",
       "personal care      21.147711   5  99\n",
       "pets               19.914645   5  99\n",
       "produce            22.597392   5  99\n",
       "snacks             21.891988   5  99"
      ]
     },
     "execution_count": 27,
     "metadata": {},
     "output_type": "execute_result"
    }
   ],
   "source": [
    "new_all_merged.groupby('dept_label').agg({'order_number': ['mean', 'min', 'max']})"
   ]
  },
  {
   "cell_type": "code",
   "execution_count": 29,
   "id": "9a9b15cb-4f9e-4320-9eee-b7d552fe37ec",
   "metadata": {},
   "outputs": [],
   "source": [
    "# create dependants flag\n",
    "new_all_merged.loc[new_all_merged['n_dependants'] >= 1, 'dependents_flag'] = 'Has dependents'"
   ]
  },
  {
   "cell_type": "code",
   "execution_count": 31,
   "id": "390aba57-4108-48fd-ae55-0e7d2982e5d8",
   "metadata": {},
   "outputs": [],
   "source": [
    "new_all_merged.loc[new_all_merged['n_dependants'] == 0, 'dependents_flag'] = 'No dependents'"
   ]
  },
  {
   "cell_type": "code",
   "execution_count": 33,
   "id": "f68ffd9d-d004-41bb-a9f3-92532bbc59fc",
   "metadata": {},
   "outputs": [
    {
     "data": {
      "text/plain": [
       "dependents_flag\n",
       "Has dependents    18309875\n",
       "No dependents      6105002\n",
       "Name: count, dtype: int64"
      ]
     },
     "execution_count": 33,
     "metadata": {},
     "output_type": "execute_result"
    }
   ],
   "source": [
    "new_all_merged['dependents_flag'].value_counts(dropna=False)"
   ]
  },
  {
   "cell_type": "code",
   "execution_count": 35,
   "id": "2c82fdb2-7481-417d-9665-e51b23057897",
   "metadata": {},
   "outputs": [
    {
     "data": {
      "text/html": [
       "<div>\n",
       "<style scoped>\n",
       "    .dataframe tbody tr th:only-of-type {\n",
       "        vertical-align: middle;\n",
       "    }\n",
       "\n",
       "    .dataframe tbody tr th {\n",
       "        vertical-align: top;\n",
       "    }\n",
       "\n",
       "    .dataframe thead tr th {\n",
       "        text-align: left;\n",
       "    }\n",
       "\n",
       "    .dataframe thead tr:last-of-type th {\n",
       "        text-align: right;\n",
       "    }\n",
       "</style>\n",
       "<table border=\"1\" class=\"dataframe\">\n",
       "  <thead>\n",
       "    <tr>\n",
       "      <th></th>\n",
       "      <th colspan=\"3\" halign=\"left\">Age</th>\n",
       "    </tr>\n",
       "    <tr>\n",
       "      <th></th>\n",
       "      <th>mean</th>\n",
       "      <th>min</th>\n",
       "      <th>max</th>\n",
       "    </tr>\n",
       "    <tr>\n",
       "      <th>dependents_flag</th>\n",
       "      <th></th>\n",
       "      <th></th>\n",
       "      <th></th>\n",
       "    </tr>\n",
       "  </thead>\n",
       "  <tbody>\n",
       "    <tr>\n",
       "      <th>Has dependents</th>\n",
       "      <td>49.427370</td>\n",
       "      <td>18</td>\n",
       "      <td>81</td>\n",
       "    </tr>\n",
       "    <tr>\n",
       "      <th>No dependents</th>\n",
       "      <td>49.547218</td>\n",
       "      <td>18</td>\n",
       "      <td>81</td>\n",
       "    </tr>\n",
       "  </tbody>\n",
       "</table>\n",
       "</div>"
      ],
      "text/plain": [
       "                       Age        \n",
       "                      mean min max\n",
       "dependents_flag                   \n",
       "Has dependents   49.427370  18  81\n",
       "No dependents    49.547218  18  81"
      ]
     },
     "execution_count": 35,
     "metadata": {},
     "output_type": "execute_result"
    }
   ],
   "source": [
    "#single adult #young parent\n",
    "new_all_merged.groupby('dependents_flag').agg({'Age': ['mean', 'min', 'max']})"
   ]
  },
  {
   "cell_type": "code",
   "execution_count": 69,
   "id": "51de34d1-2c4a-4a76-985e-2ac949018d74",
   "metadata": {},
   "outputs": [],
   "source": [
    "crosstab = pd.crosstab(new_all_merged['dependents_flag'], new_all_merged['dept_label'], dropna = False)"
   ]
  },
  {
   "cell_type": "code",
   "execution_count": 70,
   "id": "6b35e9f7-53a4-43c5-95ec-6267ca3deb67",
   "metadata": {},
   "outputs": [],
   "source": [
    "crosstab.to_clipboard()"
   ]
  },
  {
   "cell_type": "code",
   "execution_count": 73,
   "id": "1be889ed-586e-4518-8cd8-64bad0198257",
   "metadata": {},
   "outputs": [],
   "source": [
    "crosstab = pd.crosstab(new_all_merged['dependents_flag'], new_all_merged['age_group'], dropna = False)"
   ]
  },
  {
   "cell_type": "code",
   "execution_count": 74,
   "id": "3a3d4cc3-e39e-45de-9fc0-7656b1644a1f",
   "metadata": {},
   "outputs": [],
   "source": [
    "crosstab.to_clipboard()"
   ]
  },
  {
   "cell_type": "code",
   "execution_count": 81,
   "id": "48a12777-96a0-4efb-9fac-e1eee5cbf7a0",
   "metadata": {},
   "outputs": [],
   "source": [
    "# create young parent profile\n",
    "df1 = new_all_merged[new_all_merged['age_group']== 'young adult']\n",
    "df2 = pd.crosstab(df1['dependents_flag'], df1['price_range_loc'])"
   ]
  },
  {
   "cell_type": "code",
   "execution_count": 85,
   "id": "7352b760-26c5-4aa4-a333-77d624a3f351",
   "metadata": {},
   "outputs": [],
   "source": [
    "mask = new_all_merged['age_group']== 'young adult'\n",
    "df2 = pd.crosstab(new_all_merged.loc[mask, 'dependents_flag'], new_all_merged.loc[mask, 'price_range_loc'])"
   ]
  },
  {
   "cell_type": "code",
   "execution_count": 89,
   "id": "f5f62f49-6703-47d5-bb99-bd894a3b9bfe",
   "metadata": {},
   "outputs": [
    {
     "data": {
      "text/html": [
       "<div>\n",
       "<style scoped>\n",
       "    .dataframe tbody tr th:only-of-type {\n",
       "        vertical-align: middle;\n",
       "    }\n",
       "\n",
       "    .dataframe tbody tr th {\n",
       "        vertical-align: top;\n",
       "    }\n",
       "\n",
       "    .dataframe thead th {\n",
       "        text-align: right;\n",
       "    }\n",
       "</style>\n",
       "<table border=\"1\" class=\"dataframe\">\n",
       "  <thead>\n",
       "    <tr style=\"text-align: right;\">\n",
       "      <th>price_range_loc</th>\n",
       "      <th>High-range product</th>\n",
       "      <th>Low-range product</th>\n",
       "      <th>Mid-range product</th>\n",
       "    </tr>\n",
       "    <tr>\n",
       "      <th>dependents_flag</th>\n",
       "      <th></th>\n",
       "      <th></th>\n",
       "      <th></th>\n",
       "    </tr>\n",
       "  </thead>\n",
       "  <tbody>\n",
       "    <tr>\n",
       "      <th>Has dependents</th>\n",
       "      <td>29348</td>\n",
       "      <td>717948</td>\n",
       "      <td>1552538</td>\n",
       "    </tr>\n",
       "    <tr>\n",
       "      <th>No dependents</th>\n",
       "      <td>9349</td>\n",
       "      <td>234818</td>\n",
       "      <td>503709</td>\n",
       "    </tr>\n",
       "  </tbody>\n",
       "</table>\n",
       "</div>"
      ],
      "text/plain": [
       "price_range_loc  High-range product  Low-range product  Mid-range product\n",
       "dependents_flag                                                          \n",
       "Has dependents                29348             717948            1552538\n",
       "No dependents                  9349             234818             503709"
      ]
     },
     "execution_count": 89,
     "metadata": {},
     "output_type": "execute_result"
    }
   ],
   "source": [
    "df2.head()"
   ]
  },
  {
   "cell_type": "code",
   "execution_count": 101,
   "id": "cbf6792c-075b-4afa-8986-3df24acb24f9",
   "metadata": {},
   "outputs": [],
   "source": [
    "# create single adult profile\n",
    "df1 = new_all_merged[new_all_merged['age_group']== 'young adult']\n",
    "df3 = pd.crosstab(df1['fam_status'], df1['price_range_loc'])"
   ]
  },
  {
   "cell_type": "code",
   "execution_count": 103,
   "id": "3f284baa-6ae4-4182-984b-91b7fd6f7b18",
   "metadata": {},
   "outputs": [],
   "source": [
    "mask = new_all_merged['age_group']== 'young adult'\n",
    "df3 = pd.crosstab(new_all_merged.loc[mask, 'fam_status'], new_all_merged.loc[mask, 'price_range_loc'])"
   ]
  },
  {
   "cell_type": "code",
   "execution_count": 105,
   "id": "c83de3f9-0619-449b-888b-780f9dcd2310",
   "metadata": {},
   "outputs": [
    {
     "data": {
      "text/html": [
       "<div>\n",
       "<style scoped>\n",
       "    .dataframe tbody tr th:only-of-type {\n",
       "        vertical-align: middle;\n",
       "    }\n",
       "\n",
       "    .dataframe tbody tr th {\n",
       "        vertical-align: top;\n",
       "    }\n",
       "\n",
       "    .dataframe thead th {\n",
       "        text-align: right;\n",
       "    }\n",
       "</style>\n",
       "<table border=\"1\" class=\"dataframe\">\n",
       "  <thead>\n",
       "    <tr style=\"text-align: right;\">\n",
       "      <th>price_range_loc</th>\n",
       "      <th>High-range product</th>\n",
       "      <th>Low-range product</th>\n",
       "      <th>Mid-range product</th>\n",
       "    </tr>\n",
       "    <tr>\n",
       "      <th>fam_status</th>\n",
       "      <th></th>\n",
       "      <th></th>\n",
       "      <th></th>\n",
       "    </tr>\n",
       "  </thead>\n",
       "  <tbody>\n",
       "    <tr>\n",
       "      <th>living with parents and siblings</th>\n",
       "      <td>14771</td>\n",
       "      <td>365097</td>\n",
       "      <td>791531</td>\n",
       "    </tr>\n",
       "    <tr>\n",
       "      <th>married</th>\n",
       "      <td>14577</td>\n",
       "      <td>352851</td>\n",
       "      <td>761007</td>\n",
       "    </tr>\n",
       "    <tr>\n",
       "      <th>single</th>\n",
       "      <td>9349</td>\n",
       "      <td>234818</td>\n",
       "      <td>503709</td>\n",
       "    </tr>\n",
       "  </tbody>\n",
       "</table>\n",
       "</div>"
      ],
      "text/plain": [
       "price_range_loc                   High-range product  Low-range product  \\\n",
       "fam_status                                                                \n",
       "living with parents and siblings               14771             365097   \n",
       "married                                        14577             352851   \n",
       "single                                          9349             234818   \n",
       "\n",
       "price_range_loc                   Mid-range product  \n",
       "fam_status                                           \n",
       "living with parents and siblings             791531  \n",
       "married                                      761007  \n",
       "single                                       503709  "
      ]
     },
     "execution_count": 105,
     "metadata": {},
     "output_type": "execute_result"
    }
   ],
   "source": [
    "df3.head()"
   ]
  },
  {
   "cell_type": "code",
   "execution_count": 107,
   "id": "5f9aca13-14c9-418f-9554-364eb99ea8e8",
   "metadata": {},
   "outputs": [],
   "source": [
    "# export new df\n",
    "new_all_merged.to_pickle(os.path.join(path, '02 Data','Prepared Data', 'new_all_merged_plus.pkl'))"
   ]
  },
  {
   "cell_type": "code",
   "execution_count": null,
   "id": "176309f5-f3df-4df9-8450-a0c6ad14303f",
   "metadata": {},
   "outputs": [],
   "source": []
  }
 ],
 "metadata": {
  "kernelspec": {
   "display_name": "Python [conda env:base] *",
   "language": "python",
   "name": "conda-base-py"
  },
  "language_info": {
   "codemirror_mode": {
    "name": "ipython",
    "version": 3
   },
   "file_extension": ".py",
   "mimetype": "text/x-python",
   "name": "python",
   "nbconvert_exporter": "python",
   "pygments_lexer": "ipython3",
   "version": "3.12.7"
  }
 },
 "nbformat": 4,
 "nbformat_minor": 5
}
